{
 "cells": [
  {
   "cell_type": "code",
   "execution_count": 1,
   "metadata": {},
   "outputs": [],
   "source": [
    "import pandas as pd "
   ]
  },
  {
   "cell_type": "code",
   "execution_count": 2,
   "metadata": {},
   "outputs": [],
   "source": [
    "# load data\n",
    "df = pd.read_excel(\"BaseDatos.xlsx\", sheet_name=\"DetalleVentas\")\n",
    "\n",
    "# change type column \n",
    "df[\"FECHA\"] = pd.to_datetime(df[\"FECHA\"])\n",
    "\n",
    "\n",
    "# table results by SKU, LOC, All days\n",
    "## SKU, LOC\n",
    "df_clean = df.groupby([\"SKU\", \"LOC\"], as_index=False).UNI.count()\n",
    "df_clean[\"UNI\"] = 1 # on merge= \"id\" \n",
    "\n",
    "### All fechas\n",
    "fechas_totales = pd.DataFrame(pd.date_range(\"2019-04-01\", \"2019-06-23\"), columns=[\"FECHA\"])\n",
    "fechas_totales[\"UNI\"] = 1\n",
    "\n",
    "df_week = pd.merge(df_clean, fechas_totales, on=\"UNI\", how=\"right\")[[\"SKU\", \"LOC\", \"FECHA\"]]\n",
    "\n",
    "# Table ventas, SKU, LOC, All days\n",
    "df_final = pd.merge(df_week, df, on=[\"SKU\", \"LOC\", \"FECHA\"], how=\"left\") \n",
    "df_final[\"UNI\"] = df_final[\"UNI\"].fillna(0) # impute with 0\n",
    "df_final.set_index(\"FECHA\", inplace=True)\n",
    "\n",
    "# Table final ventas by SKU, LOC, ALL week\n",
    "df_final_week = df_final.groupby([\"SKU\", \"LOC\"]).resample(\"W\").sum()\n",
    "df_final_week = df_final_week.reset_index()"
   ]
  },
  {
   "cell_type": "code",
   "execution_count": 3,
   "metadata": {},
   "outputs": [],
   "source": [
    "# write table final\n",
    "df_final_week.to_csv(\"data/ventas_sku_loc_week.csv\", index=False) "
   ]
  }
 ],
 "metadata": {
  "kernelspec": {
   "display_name": "Python 3",
   "language": "python",
   "name": "python3"
  },
  "language_info": {
   "codemirror_mode": {
    "name": "ipython",
    "version": 3
   },
   "file_extension": ".py",
   "mimetype": "text/x-python",
   "name": "python",
   "nbconvert_exporter": "python",
   "pygments_lexer": "ipython3",
   "version": "3.7.6"
  }
 },
 "nbformat": 4,
 "nbformat_minor": 4
}
