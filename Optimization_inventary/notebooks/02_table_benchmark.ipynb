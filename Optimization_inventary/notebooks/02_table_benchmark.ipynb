{
 "cells": [
  {
   "cell_type": "code",
   "execution_count": 1,
   "metadata": {},
   "outputs": [],
   "source": [
    "import pandas as pd"
   ]
  },
  {
   "cell_type": "code",
   "execution_count": 2,
   "metadata": {},
   "outputs": [],
   "source": [
    "# load data\n",
    "ventas = pd.read_csv(\"../data/ventas_sku_loc_week.csv\")\n"
   ]
  },
  {
   "cell_type": "code",
   "execution_count": 3,
   "metadata": {},
   "outputs": [],
   "source": [
    "# last two weeks for SKU and LOC \n",
    "ventas_last_two_weeks = ventas.groupby([\"SKU\", \"LOC\"], as_index=False).tail(2)\n",
    "\n",
    "# transform table\n",
    "ventas_last_two_weeks_pivot = ventas_last_two_weeks.pivot_table(columns=\"FECHA\", \n",
    "                                                                values=\"UNI\", index=[\"SKU\", \"LOC\"]).reset_index()\n",
    "\n",
    "# rename columns\n",
    "ventas_last_two_weeks_pivot.rename(columns={\"2019-06-16\":\"penultimate_week\",\n",
    "                                           \"2019-06-23\":\"last_week\"}, inplace=True)\n",
    "\n",
    "# create forecasts baseline\n",
    "for i in range(4):\n",
    "    ventas_last_two_weeks_pivot[\"baseline_predict_week\"+str(i)] = ventas_last_two_weeks_pivot[[\"penultimate_week\", \"last_week\"]].apply(lambda x: x.mean()+1, axis=1)"
   ]
  },
  {
   "cell_type": "code",
   "execution_count": 4,
   "metadata": {},
   "outputs": [],
   "source": [
    "ventas_last_two_weeks_pivot.to_csv(\"../data/ventas_forecast_baseline.csv\", index=False)"
   ]
  }
 ],
 "metadata": {
  "kernelspec": {
   "display_name": "Python 3",
   "language": "python",
   "name": "python3"
  },
  "language_info": {
   "codemirror_mode": {
    "name": "ipython",
    "version": 3
   },
   "file_extension": ".py",
   "mimetype": "text/x-python",
   "name": "python",
   "nbconvert_exporter": "python",
   "pygments_lexer": "ipython3",
   "version": "3.7.6"
  }
 },
 "nbformat": 4,
 "nbformat_minor": 4
}
